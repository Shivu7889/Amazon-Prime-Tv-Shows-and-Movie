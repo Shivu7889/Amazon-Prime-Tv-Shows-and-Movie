{
  "nbformat": 4,
  "nbformat_minor": 0,
  "metadata": {
    "colab": {
      "private_outputs": true,
      "provenance": [],
      "collapsed_sections": [
        "vncDsAP0Gaoa",
        "FJNUwmbgGyua",
        "w6K7xa23Elo4",
        "yQaldy8SH6Dl",
        "PH-0ReGfmX4f",
        "mDgbUHAGgjLW",
        "O_i_v8NEhb9l",
        "HhfV-JJviCcP",
        "Y3lxredqlCYt",
        "3RnN4peoiCZX",
        "x71ZqKXriCWQ",
        "7hBIi_osiCS2",
        "JlHwYmJAmNHm",
        "35m5QtbWiB9F",
        "PoPl-ycgm1ru",
        "H0kj-8xxnORC",
        "nA9Y7ga8ng1Z",
        "PBTbrJXOngz2",
        "u3PMJOP6ngxN",
        "dauF4eBmngu3",
        "bKJF3rekwFvQ",
        "MSa1f5Uengrz",
        "GF8Ens_Soomf",
        "0wOQAZs5pc--",
        "K5QZ13OEpz2H",
        "lQ7QKXXCp7Bj",
        "448CDAPjqfQr",
        "KSlN3yHqYklG",
        "t6dVpIINYklI",
        "ijmpgYnKYklI",
        "-JiQyfWJYklI",
        "EM7whBJCYoAo",
        "fge-S5ZAYoAp",
        "85gYPyotYoAp",
        "RoGjAbkUYoAp",
        "4Of9eVA-YrdM",
        "iky9q4vBYrdO",
        "F6T5p64dYrdO",
        "y-Ehk30pYrdP",
        "bamQiAODYuh1",
        "QHF8YVU7Yuh3",
        "GwzvFGzlYuh3",
        "qYpmQ266Yuh3",
        "OH-pJp9IphqM",
        "bbFf2-_FphqN",
        "_ouA3fa0phqN",
        "Seke61FWphqN",
        "PIIx-8_IphqN",
        "t27r6nlMphqO",
        "r2jJGEOYphqO",
        "b0JNsNcRphqO",
        "BZR9WyysphqO",
        "jj7wYXLtphqO",
        "eZrbJ2SmphqO",
        "rFu4xreNphqO",
        "YJ55k-q6phqO",
        "gCFgpxoyphqP",
        "OVtJsKN_phqQ",
        "lssrdh5qphqQ",
        "U2RJ9gkRphqQ",
        "1M8mcRywphqQ",
        "tgIPom80phqQ",
        "JMzcOPDDphqR",
        "x-EpHcCOp1ci",
        "X_VqEhTip1ck",
        "8zGJKyg5p1ck",
        "PVzmfK_Ep1ck",
        "n3dbpmDWp1ck",
        "ylSl6qgtp1ck",
        "ZWILFDl5p1ck",
        "M7G43BXep1ck",
        "Ag9LCva-p1cl",
        "E6MkPsBcp1cl",
        "2cELzS2fp1cl",
        "3MPXvC8up1cl",
        "NC_X3p0fY2L0",
        "UV0SzAkaZNRQ",
        "YPEH6qLeZNRQ",
        "q29F0dvdveiT",
        "EXh0U9oCveiU",
        "22aHeOlLveiV",
        "JcMwzZxoAimU",
        "8G2x9gOozGDZ",
        "gCX9965dhzqZ",
        "gIfDvo9L0UH2"
      ],
      "include_colab_link": true
    },
    "kernelspec": {
      "name": "python3",
      "display_name": "Python 3"
    },
    "language_info": {
      "name": "python"
    }
  },
  "cells": [
    {
      "cell_type": "markdown",
      "metadata": {
        "id": "view-in-github",
        "colab_type": "text"
      },
      "source": [
        "<a href=\"https://colab.research.google.com/github/Shivu7889/Amazon-Prime-Tv-Shows-and-Movie/blob/main/Amazon_Prime_Tv_Shows_and_Movies.ipynb\" target=\"_parent\"><img src=\"https://colab.research.google.com/assets/colab-badge.svg\" alt=\"Open In Colab\"/></a>"
      ]
    },
    {
      "cell_type": "markdown",
      "source": [
        "# **Project Name**    - Amazon Prime TV Shows and Movies\n"
      ],
      "metadata": {
        "id": "vncDsAP0Gaoa"
      }
    },
    {
      "cell_type": "markdown",
      "source": [
        "##### **Project Type**    - EDA\n",
        "##### **Contribution**    - Individual\n",
        "##### **Name**            - Shivam Patidar"
      ],
      "metadata": {
        "id": "beRrZCGUAJYm"
      }
    },
    {
      "cell_type": "markdown",
      "source": [
        "# **Project Summary -**"
      ],
      "metadata": {
        "id": "FJNUwmbgGyua"
      }
    },
    {
      "cell_type": "markdown",
      "source": [
        "In this project, we performed an exploratory data analysis (EDA) on Amazon Prime Video’s content dataset to uncover insights into the platform’s content diversity, popularity trends, and regional representation. The dataset consisted of two CSV files: titles.csv containing metadata of over 9,000 titles (movies and TV shows), and credits.csv containing cast and crew information for more than 120,000 roles.\n",
        "\n",
        "Using Python libraries such as Pandas, NumPy, Matplotlib, and Seaborn, we conducted data cleaning, transformation, and visual analysis to address several key business questions."
      ],
      "metadata": {
        "id": "F6v_1wHtG2nS"
      }
    },
    {
      "cell_type": "markdown",
      "source": [
        "# **GitHub Link -**"
      ],
      "metadata": {
        "id": "w6K7xa23Elo4"
      }
    },
    {
      "cell_type": "markdown",
      "source": [
        "https://github.com/Shivu7889/Amazon-Prime-TV-Shows-and-Movies"
      ],
      "metadata": {
        "id": "h1o69JH3Eqqn"
      }
    },
    {
      "cell_type": "markdown",
      "source": [
        "# **Problem Statement**\n"
      ],
      "metadata": {
        "id": "yQaldy8SH6Dl"
      }
    },
    {
      "cell_type": "markdown",
      "source": [
        "This dataset was created to analyze all shows available on Amazon Prime Video, allowing us to extract valuable insights such as:\n",
        "\n",
        "* Content Diversity: What genres and categories dominate the platform?\n",
        "* Regional Availability: How does content distribution vary across different regions?\n",
        "* Trends Over Time: How has Amazon Prime’s content library evolved?\n",
        "* IMDb Ratings & Popularity: What are the highest-rated or most popular shows on the platform?\n",
        "\n",
        "\n",
        " By analyzing this dataset, businesses, content creators, and data analysts can uncover key trends that influence subscription growth, user engagement, and content investment strategies in the streaming industry."
      ],
      "metadata": {
        "id": "DpeJGUA3kjGy"
      }
    },
    {
      "cell_type": "markdown",
      "source": [
        "#### **Define Your Business Objective?**"
      ],
      "metadata": {
        "id": "PH-0ReGfmX4f"
      }
    },
    {
      "cell_type": "markdown",
      "source": [
        "To uncover data-driven insights from Amazon Prime Video’s catalog that support strategic decisions in content acquisition, user engagement, and platform growth."
      ],
      "metadata": {
        "id": "PhDvGCAqmjP1"
      }
    },
    {
      "cell_type": "markdown",
      "source": [
        "# **General Guidelines** : -  "
      ],
      "metadata": {
        "id": "mDgbUHAGgjLW"
      }
    },
    {
      "cell_type": "markdown",
      "source": [
        "1.   Well-structured, formatted, and commented code is required.\n",
        "2.   Exception Handling, Production Grade Code & Deployment Ready Code will be a plus. Those students will be awarded some additional credits.\n",
        "     \n",
        "     The additional credits will have advantages over other students during Star Student selection.\n",
        "       \n",
        "             [ Note: - Deployment Ready Code is defined as, the whole .ipynb notebook should be executable in one go\n",
        "                       without a single error logged. ]\n",
        "\n",
        "3.   Each and every logic should have proper comments.\n",
        "4. You may add as many number of charts you want. Make Sure for each and every chart the following format should be answered.\n",
        "        \n",
        "\n",
        "```\n",
        "# Chart visualization code\n",
        "```\n",
        "            \n",
        "\n",
        "*   Why did you pick the specific chart?\n",
        "*   What is/are the insight(s) found from the chart?\n",
        "* Will the gained insights help creating a positive business impact?\n",
        "Are there any insights that lead to negative growth? Justify with specific reason.\n",
        "\n",
        "5. You have to create at least 20 logical & meaningful charts having important insights.\n",
        "\n",
        "\n",
        "[ Hints : - Do the Vizualization in  a structured way while following \"UBM\" Rule.\n",
        "\n",
        "U - Univariate Analysis,\n",
        "\n",
        "B - Bivariate Analysis (Numerical - Categorical, Numerical - Numerical, Categorical - Categorical)\n",
        "\n",
        "M - Multivariate Analysis\n",
        " ]\n",
        "\n",
        "\n",
        "\n"
      ],
      "metadata": {
        "id": "ZrxVaUj-hHfC"
      }
    },
    {
      "cell_type": "markdown",
      "source": [
        "# ***Let's Begin !***"
      ],
      "metadata": {
        "id": "O_i_v8NEhb9l"
      }
    },
    {
      "cell_type": "markdown",
      "source": [
        "## ***1. Know Your Data***"
      ],
      "metadata": {
        "id": "HhfV-JJviCcP"
      }
    },
    {
      "cell_type": "markdown",
      "source": [
        "### Import Libraries"
      ],
      "metadata": {
        "id": "Y3lxredqlCYt"
      }
    },
    {
      "cell_type": "code",
      "source": [
        "# Import Libraries\n",
        "import numpy as np\n",
        "import pandas as pd\n",
        "import matplotlib.pyplot as plt\n",
        "import seaborn as sns\n",
        "import ast\n",
        "\n",
        "# Set visualization style\n",
        "sns.set(style=\"whitegrid\")\n",
        "%matplotlib inline\n",
        "\n",
        "from google.colab import drive\n",
        "drive.mount('/content/drive')"
      ],
      "metadata": {
        "id": "M8Vqi-pPk-HR"
      },
      "execution_count": null,
      "outputs": []
    },
    {
      "cell_type": "markdown",
      "source": [
        "### Dataset Loading"
      ],
      "metadata": {
        "id": "3RnN4peoiCZX"
      }
    },
    {
      "cell_type": "code",
      "source": [
        "# Load Dataset\n",
        "try:\n",
        "    titles = pd.read_csv(\"/content/drive/MyDrive/MsProject/Amazon_Prime/titles.csv\")\n",
        "    credits = pd.read_csv(\"/content/drive/MyDrive/MsProject/Amazon_Prime/credits.csv\")\n",
        "except FileNotFoundError as e:\n",
        "    print(\"Error: Dataset file not found.\")\n",
        "    raise e"
      ],
      "metadata": {
        "id": "4CkvbW_SlZ_R"
      },
      "execution_count": null,
      "outputs": []
    },
    {
      "cell_type": "markdown",
      "source": [
        "### Dataset First View"
      ],
      "metadata": {
        "id": "x71ZqKXriCWQ"
      }
    },
    {
      "cell_type": "code",
      "source": [
        "# Dataset First Look - tiltes datset\n",
        "titles.head()"
      ],
      "metadata": {
        "id": "JS4Tci3Ba-8U"
      },
      "execution_count": null,
      "outputs": []
    },
    {
      "cell_type": "code",
      "source": [
        "# Dataset First Look - credits dataset\n",
        "credits.head()"
      ],
      "metadata": {
        "id": "LWNFOSvLl09H"
      },
      "execution_count": null,
      "outputs": []
    },
    {
      "cell_type": "markdown",
      "source": [
        "### Dataset Rows & Columns count"
      ],
      "metadata": {
        "id": "7hBIi_osiCS2"
      }
    },
    {
      "cell_type": "code",
      "source": [
        "# Dataset Rows & Columns count - titles\n",
        "titles.shape\n"
      ],
      "metadata": {
        "id": "W1idJsV-pKCa"
      },
      "execution_count": null,
      "outputs": []
    },
    {
      "cell_type": "code",
      "source": [
        "# Dataset Rows & Columns count - credits\n",
        "titles.shape"
      ],
      "metadata": {
        "id": "Kllu7SJgmLij"
      },
      "execution_count": null,
      "outputs": []
    },
    {
      "cell_type": "markdown",
      "source": [
        "### Dataset Information"
      ],
      "metadata": {
        "id": "JlHwYmJAmNHm"
      }
    },
    {
      "cell_type": "code",
      "source": [
        "# Dataset Info - credits\n",
        "credits.info()\n"
      ],
      "metadata": {
        "id": "B_QYn-enpfJr"
      },
      "execution_count": null,
      "outputs": []
    },
    {
      "cell_type": "code",
      "source": [
        "# Dataset Info - titles\n",
        "titles.info()"
      ],
      "metadata": {
        "id": "e9hRXRi6meOf"
      },
      "execution_count": null,
      "outputs": []
    },
    {
      "cell_type": "markdown",
      "source": [
        "#### Duplicate Values"
      ],
      "metadata": {
        "id": "35m5QtbWiB9F"
      }
    },
    {
      "cell_type": "code",
      "source": [
        "\n",
        "titles.duplicated().sum()"
      ],
      "metadata": {
        "id": "MrBjS2-Qpt6k"
      },
      "execution_count": null,
      "outputs": []
    },
    {
      "cell_type": "code",
      "source": [
        "# Dataset Duplicate Value Count - credits\n",
        "credits.duplicated().sum()\n"
      ],
      "metadata": {
        "id": "1sLdpKYkmox0"
      },
      "execution_count": null,
      "outputs": []
    },
    {
      "cell_type": "markdown",
      "source": [
        "#### Missing Values/Null Values"
      ],
      "metadata": {
        "id": "PoPl-ycgm1ru"
      }
    },
    {
      "cell_type": "code",
      "source": [
        "# Missing Values/Null Values Count - titles\n",
        "titles.isnull().sum()\n"
      ],
      "metadata": {
        "id": "4RllGyuUq-m-"
      },
      "execution_count": null,
      "outputs": []
    },
    {
      "cell_type": "code",
      "source": [
        "# Missing Values/Null Values Count - credits\n",
        "credits.isnull().sum()"
      ],
      "metadata": {
        "id": "GgHWkxvamxVg"
      },
      "execution_count": null,
      "outputs": []
    },
    {
      "cell_type": "code",
      "source": [
        "#null visulization - credits\n",
        "plt.figure(figsize=(10, 6))\n",
        "sns.heatmap(credits.isnull(), cbar=False, cmap='viridis', yticklabels=False)\n",
        "plt.title('Missing Value Heatmap - Titles Dataset')\n",
        "plt.show()"
      ],
      "metadata": {
        "id": "ql9cLbPXfgud"
      },
      "execution_count": null,
      "outputs": []
    },
    {
      "cell_type": "code",
      "source": [
        "# Visualizing the missing values - titles\n",
        "plt.figure(figsize=(10, 6))\n",
        "sns.heatmap(titles.isnull(), cbar=False, cmap='viridis', yticklabels=False)\n",
        "plt.title('Missing Value Heatmap - Titles Dataset')\n",
        "plt.show()"
      ],
      "metadata": {
        "id": "3q5wnI3om9sJ"
      },
      "execution_count": null,
      "outputs": []
    },
    {
      "cell_type": "markdown",
      "source": [
        "### What did you know about your dataset?"
      ],
      "metadata": {
        "id": "H0kj-8xxnORC"
      }
    },
    {
      "cell_type": "markdown",
      "source": [
        "In my dataset i have two scv files : titles.csv and credits.csv. titles.csv has 9871 rows and 15 columns and it contains duplicated values and null values.\n",
        "\n",
        "credits.csv has 124235 rows and 5 columns and it also contains duplicated values and null values."
      ],
      "metadata": {
        "id": "gfoNAAC-nUe_"
      }
    },
    {
      "cell_type": "markdown",
      "source": [
        "## ***2. Understanding Your Variables***"
      ],
      "metadata": {
        "id": "nA9Y7ga8ng1Z"
      }
    },
    {
      "cell_type": "code",
      "source": [
        "# Dataset Columns - titles\n",
        "titles.columns"
      ],
      "metadata": {
        "id": "hoM5d2cWrfCq"
      },
      "execution_count": null,
      "outputs": []
    },
    {
      "cell_type": "code",
      "source": [
        "# Dataset Columns - credits\n",
        "credits.columns"
      ],
      "metadata": {
        "id": "j7xfkqrt5Ag5"
      },
      "execution_count": null,
      "outputs": []
    },
    {
      "cell_type": "code",
      "source": [
        "# Dataset Describe - credits\n",
        "credits.describe(include = 'all')"
      ],
      "metadata": {
        "id": "p2vEcy8Vrrl5"
      },
      "execution_count": null,
      "outputs": []
    },
    {
      "cell_type": "code",
      "source": [
        "# Dataset Describe - titles\n",
        "titles.describe(include = 'all')"
      ],
      "metadata": {
        "id": "DnOaZdaE5Q5t"
      },
      "execution_count": null,
      "outputs": []
    },
    {
      "cell_type": "markdown",
      "source": [
        "### Variables Description"
      ],
      "metadata": {
        "id": "PBTbrJXOngz2"
      }
    },
    {
      "cell_type": "markdown",
      "source": [
        "**titles dataset**\n",
        "* **id:** The title ID on JustWatch.\n",
        "* **title:** The name of the title.\n",
        "* **show_type:** TV show or movie.\n",
        "* **description:** A brief description.\n",
        "* **release_year:** The release year.\n",
        "* **age_certification:** The age certification.\n",
        "* **runtime:** The length of the episode (SHOW) or movie.\n",
        "* **genres:** A list of genres.\n",
        "* **production_countries:** A list of countries that produced the title.\n",
        "* **seasons:** Number of seasons if it's a SHOW.\n",
        "* **imdb_id:** The title ID on IMDB.\n",
        "* **imdb_score:** Score on IMDB.\n",
        "* **imdb_votes:** Votes on IMDB.\n",
        "* **tmdb_popularity:** Popularity on TMDB.\n",
        "* **tmdb_score:** Score on TMDB.\n",
        "\n",
        "**credits dataset**\n",
        "* **person_ID:** The person ID on JustWatch.\n",
        "* **id:** The title ID on JustWatch.\n",
        "* **name:** The actor or director's name.\n",
        "* **character_name:** The character name.\n",
        "* **role:** ACTOR or DIRECTOR."
      ],
      "metadata": {
        "id": "aJV4KIxSnxay"
      }
    },
    {
      "cell_type": "markdown",
      "source": [
        "### Check Unique Values for each variable."
      ],
      "metadata": {
        "id": "u3PMJOP6ngxN"
      }
    },
    {
      "cell_type": "code",
      "source": [
        "# Check Unique Values for each variable. - titles\n",
        "for i in titles.columns.tolist():\n",
        "  print(\"No. of unique values in \",i,\"is\",titles[i].nunique(),\".\")"
      ],
      "metadata": {
        "id": "zc-9ceCZs78-"
      },
      "execution_count": null,
      "outputs": []
    },
    {
      "cell_type": "code",
      "source": [
        "# Check Unique Values for each variable.\n",
        "for i in credits.columns.tolist():\n",
        "  print(\"No. of unique values in \",i,\"is\",credits[i].nunique(),\".\")"
      ],
      "metadata": {
        "id": "zms12Yq5n-jE"
      },
      "execution_count": null,
      "outputs": []
    },
    {
      "cell_type": "markdown",
      "source": [
        "## 3. ***Data Wrangling***"
      ],
      "metadata": {
        "id": "dauF4eBmngu3"
      }
    },
    {
      "cell_type": "markdown",
      "source": [
        "### Data Wrangling Code"
      ],
      "metadata": {
        "id": "bKJF3rekwFvQ"
      }
    },
    {
      "cell_type": "code",
      "source": [
        "# Write your code to make your dataset analysis ready.\n",
        "#titles datset\n",
        "\n",
        "# Drop duplicate rows\n",
        "titles.drop_duplicates(inplace=True)\n",
        "\n",
        "# Drop rows with missing title or type (critical fields)\n",
        "titles.dropna(subset=['title', 'type'], inplace=True)\n",
        "\n",
        "# Fill missing numerical values with median (safer for skewed data)\n",
        "titles['imdb_score'].fillna(titles['imdb_score'].median(), inplace=True)\n",
        "titles['tmdb_score'].fillna(titles['tmdb_score'].median(), inplace=True)\n",
        "titles['tmdb_popularity'].fillna(titles['tmdb_popularity'].median(), inplace=True)\n",
        "titles['imdb_votes'].fillna(titles['imdb_votes'].median(), inplace=True)\n",
        "\n",
        "# Fill missing values for age certification and description with placeholder\n",
        "titles['age_certification'].fillna('Unknown', inplace=True)\n",
        "titles['description'].fillna('No Description Available', inplace=True)\n",
        "\n",
        "# Convert 'seasons' NaNs to 0 (assuming it's 0 for movies)\n",
        "titles['seasons'].fillna(0, inplace=True)\n",
        "\n",
        "# Convert genres and production_countries from string to list\n",
        "import ast\n",
        "titles['genres'] = titles['genres'].apply(lambda x: ast.literal_eval(x) if pd.notna(x) else [])\n",
        "titles['production_countries'] = titles['production_countries'].apply(lambda x: ast.literal_eval(x) if pd.notna(x) else [])\n",
        "\n",
        "# Cast 'release_year', 'runtime', 'seasons' to integer\n",
        "titles['release_year'] = titles['release_year'].astype(int)\n",
        "titles['runtime'] = titles['runtime'].astype(int)\n",
        "titles['seasons'] = titles['seasons'].astype(int)\n",
        "\n",
        "\n",
        "\n",
        "\n",
        "#credits dataset\n",
        "# Drop duplicate rows\n",
        "credits.drop_duplicates(inplace=True)\n",
        "\n",
        "# Fill missing character names with \"Unknown\"\n",
        "credits['character'].fillna('Unknown', inplace=True)"
      ],
      "metadata": {
        "id": "wk-9a2fpoLcV"
      },
      "execution_count": null,
      "outputs": []
    },
    {
      "cell_type": "code",
      "source": [
        "# Merge into titles\n",
        "df = pd.merge(titles, credits, on='id', how='left')\n",
        "df"
      ],
      "metadata": {
        "id": "-w3C0vDBlSF5"
      },
      "execution_count": null,
      "outputs": []
    },
    {
      "cell_type": "markdown",
      "source": [
        "### What all manipulations have you done and insights you found?"
      ],
      "metadata": {
        "id": "MSa1f5Uengrz"
      }
    },
    {
      "cell_type": "markdown",
      "source": [
        "* Removed duplicate rows from both datasets.\n",
        "\n",
        "* Filled null values with meaningful defaults or medians.\n",
        "\n",
        "* Converted columns with stringified lists (genres, production_countries) into Python lists.\n",
        "\n",
        "* Converted data types (e.g., seasons, runtime, release_year) to int.\n",
        "\n",
        "* Merged credits and titles dataset"
      ],
      "metadata": {
        "id": "LbyXE7I1olp8"
      }
    },
    {
      "cell_type": "markdown",
      "source": [
        "## ***4. Data Vizualization, Storytelling & Experimenting with charts : Understand the relationships between variables***"
      ],
      "metadata": {
        "id": "GF8Ens_Soomf"
      }
    },
    {
      "cell_type": "markdown",
      "source": [
        "#### Chart - 1"
      ],
      "metadata": {
        "id": "0wOQAZs5pc--"
      }
    },
    {
      "cell_type": "code",
      "source": [
        "# Chart - 1 visualization code\n",
        "#Tv vs Movies Show\n",
        "# Plot distribution of show types\n",
        "plt.figure(figsize=(6, 4))\n",
        "sns.countplot(data=df, x='type', palette='pastel')\n",
        "plt.title(\"Distribution of Titles by Type (TV vs Movie)\")\n",
        "plt.xlabel(\"Type\")\n",
        "plt.ylabel(\"Count\")\n",
        "plt.show()"
      ],
      "metadata": {
        "id": "7v_ESjsspbW7"
      },
      "execution_count": null,
      "outputs": []
    },
    {
      "cell_type": "markdown",
      "source": [
        "##### 1. Why did you pick the specific chart?"
      ],
      "metadata": {
        "id": "K5QZ13OEpz2H"
      }
    },
    {
      "cell_type": "markdown",
      "source": [
        "A countplot (bar chart) is the most effective visualization to compare the frequency of categorical variables—in this case, TV Shows vs Movies. It gives a direct visual cue on which content type is more dominant on the platform."
      ],
      "metadata": {
        "id": "XESiWehPqBRc"
      }
    },
    {
      "cell_type": "markdown",
      "source": [
        "##### 2. What is/are the insight(s) found from the chart?"
      ],
      "metadata": {
        "id": "lQ7QKXXCp7Bj"
      }
    },
    {
      "cell_type": "markdown",
      "source": [
        "From the chart, it's evident that Movies significantly outnumber TV Shows on Amazon Prime Video. This indicates that the platform’s content library is heavily skewed towards movies, possibly catering to users who prefer short-duration entertainment over long-term series commitments."
      ],
      "metadata": {
        "id": "C_j1G7yiqdRP"
      }
    },
    {
      "cell_type": "markdown",
      "source": [
        "##### 3. Will the gained insights help creating a positive business impact?\n",
        "Are there any insights that lead to negative growth? Justify with specific reason."
      ],
      "metadata": {
        "id": "448CDAPjqfQr"
      }
    },
    {
      "cell_type": "markdown",
      "source": [
        "Yes, the insights can help create a positive business impact:\n",
        "\n",
        "* If user engagement data shows that viewers prefer TV series for long-term subscriptions, then increasing TV show content could boost retention and watch time.\n",
        "\n",
        "* This analysis allows content acquisition teams to balance their library—acquiring more TV series could strategically fill this gap and enhance user satisfaction.\n",
        "\n",
        "No insights lead to negative growth."
      ],
      "metadata": {
        "id": "3cspy4FjqxJW"
      }
    },
    {
      "cell_type": "markdown",
      "source": [
        "\n",
        "#### Chart - 2"
      ],
      "metadata": {
        "id": "KSlN3yHqYklG"
      }
    },
    {
      "cell_type": "code",
      "source": [
        "# Chart - 2 visualization code\n",
        "# Count the number of titles released each year\n",
        "release_year = titles['release_year'].value_counts().sort_index()\n",
        "\n",
        "# Plotting\n",
        "plt.figure(figsize=(12, 6))\n",
        "sns.lineplot(x=release_year.index, y=release_year.values, marker='o', color='steelblue')\n",
        "plt.title(\"Number of Titles Released Per Year on Amazon Prime\")\n",
        "plt.xlabel(\"Release Year\")\n",
        "plt.ylabel(\"Number of Titles\")\n",
        "plt.xticks(rotation=45)\n",
        "plt.grid(True)\n",
        "plt.tight_layout()\n",
        "plt.show()"
      ],
      "metadata": {
        "id": "R4YgtaqtYklH"
      },
      "execution_count": null,
      "outputs": []
    },
    {
      "cell_type": "markdown",
      "source": [
        "##### 1. Why did you pick the specific chart?"
      ],
      "metadata": {
        "id": "t6dVpIINYklI"
      }
    },
    {
      "cell_type": "markdown",
      "source": [
        "A line chart is ideal for visualizing trends over time. It helps track the yearly progression of content releases on Amazon Prime, revealing patterns such as spikes, declines, or steady growth. The continuous nature of the line makes it easy to observe how content strategy evolved over the years."
      ],
      "metadata": {
        "id": "5aaW0BYyYklI"
      }
    },
    {
      "cell_type": "markdown",
      "source": [
        "##### 2. What is/are the insight(s) found from the chart?"
      ],
      "metadata": {
        "id": "ijmpgYnKYklI"
      }
    },
    {
      "cell_type": "markdown",
      "source": [
        "* There has been a significant increase in title releases from the early 2000s until around 2020.\n",
        "* Post-2020, there appears to be a decline or plateau, possibly due to the COVID-19 pandemic affecting production pipelines."
      ],
      "metadata": {
        "id": "PSx9atu2YklI"
      }
    },
    {
      "cell_type": "markdown",
      "source": [
        "##### 3. Will the gained insights help creating a positive business impact?\n",
        "Are there any insights that lead to negative growth? Justify with specific reason."
      ],
      "metadata": {
        "id": "-JiQyfWJYklI"
      }
    },
    {
      "cell_type": "markdown",
      "source": [
        "Yes, these insights can guide strategic planning and forecasting:\n",
        "\n",
        "* Understanding the peak years of content growth allows Amazon to analyze what strategies worked—e.g., licensing deals, original productions, etc.\n",
        "\n",
        "* The decline post-2020 may signal the need to re-accelerate content acquisition or original production to retain users.\n",
        "\n",
        "By using this insights amazon can build their plan to increase the customer adoption."
      ],
      "metadata": {
        "id": "BcBbebzrYklV"
      }
    },
    {
      "cell_type": "markdown",
      "source": [
        "#### Chart - 3"
      ],
      "metadata": {
        "id": "EM7whBJCYoAo"
      }
    },
    {
      "cell_type": "code",
      "source": [
        "# Chart - 3 visualization code\n",
        "plt.figure(figsize=(7, 5))\n",
        "sns.scatterplot(data=df, x='imdb_score', y='tmdb_popularity', alpha=0.5)\n",
        "plt.title(\"IMDb vs TMDb Ratings\")\n",
        "plt.xlabel(\"IMDb Rating\")\n",
        "plt.ylabel(\"TMDb Popularity\")\n",
        "plt.grid(True)\n",
        "plt.show()\n"
      ],
      "metadata": {
        "id": "t6GMdE67YoAp"
      },
      "execution_count": null,
      "outputs": []
    },
    {
      "cell_type": "markdown",
      "source": [
        "##### 1. Why did you pick the specific chart?"
      ],
      "metadata": {
        "id": "fge-S5ZAYoAp"
      }
    },
    {
      "cell_type": "markdown",
      "source": [
        "A scatter plot is well-suited to observe the relationship or correlation between two continuous variables—in this case, IMDb score and TMDb popularity.\n"
      ],
      "metadata": {
        "id": "5dBItgRVYoAp"
      }
    },
    {
      "cell_type": "markdown",
      "source": [
        "##### 2. What is/are the insight(s) found from the chart?"
      ],
      "metadata": {
        "id": "85gYPyotYoAp"
      }
    },
    {
      "cell_type": "markdown",
      "source": [
        "* Most titles cluster around IMDb ratings between 5 and 7, and low to moderate TMDb popularity.\n",
        "\n",
        "* There are some titles with both high ratings and high popularity, representing successful content that performs well both critically and publicly."
      ],
      "metadata": {
        "id": "4jstXR6OYoAp"
      }
    },
    {
      "cell_type": "markdown",
      "source": [
        "##### 3. Will the gained insights help creating a positive business impact?\n",
        "Are there any insights that lead to negative growth? Justify with specific reason."
      ],
      "metadata": {
        "id": "RoGjAbkUYoAp"
      }
    },
    {
      "cell_type": "markdown",
      "source": [
        "**Positive Impact:**\n",
        "\n",
        "* Helps content strategists identify what kinds of titles manage to achieve both high ratings and popularity.\n",
        "\n",
        "* Titles that score high on both axes can be used as benchmarks for future content acquisition or creation.\n",
        "\n",
        "* It also helps in targeted promotion—popular but lower-rated titles may still attract mass audiences, which can be leveraged in marketing.\n",
        "\n",
        "**Negative Insight:**\n",
        "\n",
        "* A disconnect between ratings and popularity may signal audience-content mismatch, which, if not addressed, could affect long-term viewer trust and satisfaction."
      ],
      "metadata": {
        "id": "zfJ8IqMcYoAp"
      }
    },
    {
      "cell_type": "markdown",
      "source": [
        "#### Chart - 4"
      ],
      "metadata": {
        "id": "4Of9eVA-YrdM"
      }
    },
    {
      "cell_type": "code",
      "source": [
        "# Count number of titles per year\n",
        "\n",
        "\n",
        "# Get top 10 highest rated titles\n",
        "top_10_rated = titles.sort_values(by='imdb_score', ascending=False).head(10)\n",
        "\n",
        "# Plotting\n",
        "plt.figure(figsize=(12, 6))\n",
        "sns.barplot(y=top_10_rated['title'], x=top_10_rated['imdb_score'], palette='viridis')\n",
        "plt.title(\"Top 10 Highest IMDb Rated Titles on Amazon Prime\")\n",
        "plt.xlabel(\"IMDb Score\")\n",
        "plt.ylabel(\"Title\")\n",
        "plt.xlim(8, 10)  # Optional: focusing on high score range\n",
        "plt.tight_layout()\n",
        "plt.show()\n",
        "\n"
      ],
      "metadata": {
        "id": "irlUoxc8YrdO"
      },
      "execution_count": null,
      "outputs": []
    },
    {
      "cell_type": "markdown",
      "source": [
        "##### 1. Why did you pick the specific chart?"
      ],
      "metadata": {
        "id": "iky9q4vBYrdO"
      }
    },
    {
      "cell_type": "markdown",
      "source": [
        "A horizontal bar chart was chosen because it clearly displays the comparison of IMDb scores for the top-rated titles. It allows for easier reading of longer title names and makes it straightforward to identify the best-rated shows or movies"
      ],
      "metadata": {
        "id": "aJRCwT6DYrdO"
      }
    },
    {
      "cell_type": "markdown",
      "source": [
        "##### 2. What is/are the insight(s) found from the chart?"
      ],
      "metadata": {
        "id": "F6T5p64dYrdO"
      }
    },
    {
      "cell_type": "markdown",
      "source": [
        "* All top 10 titles have IMDb scores above 8.5, showing a high level of critical acclaim.\n",
        "\n",
        "* Some of the highest-rated titles are lesser-known, indicating that quality content doesn't always gain mainstream visibility.\n",
        "\n",
        "* The chart showcases diverse genres and formats, reflecting that high-quality content spans across various types."
      ],
      "metadata": {
        "id": "Xx8WAJvtYrdO"
      }
    },
    {
      "cell_type": "markdown",
      "source": [
        "##### 3. Will the gained insights help creating a positive business impact?\n",
        "Are there any insights that lead to negative growth? Justify with specific reason."
      ],
      "metadata": {
        "id": "y-Ehk30pYrdP"
      }
    },
    {
      "cell_type": "markdown",
      "source": [
        "**Positive Impact:**\n",
        "\n",
        "* These top-rated titles can be strategically promoted as “critically acclaimed picks,” attracting viewers looking for quality.\n",
        "\n",
        "* Helps identify content patterns (genre, language, year) common among high-rated titles to guide future acquisitions or productions.\n",
        "\n",
        "* Boosting visibility of high-rated but less-popular titles may improve customer retention and satisfaction.\n",
        "\n",
        "**Negative Growth Consideration:**\n",
        "\n",
        "* If such highly-rated titles are not promoted effectively, they may remain underwatched, which is a lost opportunity for engagement.\n",
        "\n",
        "* Over-reliance on IMDb scores alone could ignore audience preferences or popularity, so a balanced strategy is necessary."
      ],
      "metadata": {
        "id": "jLNxxz7MYrdP"
      }
    },
    {
      "cell_type": "markdown",
      "source": [
        "#### Chart - 5"
      ],
      "metadata": {
        "id": "bamQiAODYuh1"
      }
    },
    {
      "cell_type": "code",
      "source": [
        "# Chart - 5 visualization code\n",
        "# Count of content types\n",
        "category_counts = titles['type'].value_counts()\n",
        "\n",
        "# Pie chart\n",
        "plt.figure(figsize=(6,6))\n",
        "plt.pie(category_counts, labels=category_counts.index, autopct='%1.1f%%', colors=['#66b3ff','#99ff99'], startangle=140)\n",
        "plt.title('Content Type Distribution: Movies vs TV Shows')\n",
        "plt.axis('equal')\n",
        "plt.tight_layout()\n",
        "plt.show()\n"
      ],
      "metadata": {
        "id": "TIJwrbroYuh3"
      },
      "execution_count": null,
      "outputs": []
    },
    {
      "cell_type": "markdown",
      "source": [
        "##### 1. Why did you pick the specific chart?"
      ],
      "metadata": {
        "id": "QHF8YVU7Yuh3"
      }
    },
    {
      "cell_type": "markdown",
      "source": [
        "A pie chart was chosen because it provides a quick and visually appealing way to show the proportion of two categories—Movies vs TV Shows—in the dataset. It allows viewers to immediately grasp which type dominates the platform."
      ],
      "metadata": {
        "id": "dcxuIMRPYuh3"
      }
    },
    {
      "cell_type": "markdown",
      "source": [
        "##### 2. What is/are the insight(s) found from the chart?"
      ],
      "metadata": {
        "id": "GwzvFGzlYuh3"
      }
    },
    {
      "cell_type": "markdown",
      "source": [
        "* Movies form the majority of the content on Amazon Prime Video.\n",
        "\n",
        "* TV Shows make up a smaller percentage, indicating a potential area for growth or user interest diversification.\n",
        "\n",
        "* The distribution is not balanced, highlighting a content skew toward movie-based offerings."
      ],
      "metadata": {
        "id": "uyqkiB8YYuh3"
      }
    },
    {
      "cell_type": "markdown",
      "source": [
        "##### 3. Will the gained insights help creating a positive business impact?\n",
        "Are there any insights that lead to negative growth? Justify with specific reason."
      ],
      "metadata": {
        "id": "qYpmQ266Yuh3"
      }
    },
    {
      "cell_type": "markdown",
      "source": [
        "Yes, the insights can help create a positive business impact:\n",
        "\n",
        "* If user engagement data shows that viewers prefer TV series for long-term subscriptions, then increasing TV show content could boost retention and watch time.\n",
        "\n",
        "* This analysis allows content acquisition teams to balance their library—acquiring more TV series could strategically fill this gap and enhance user satisfaction.\n",
        "\n",
        "No insights lead to negative growth."
      ],
      "metadata": {
        "id": "_WtzZ_hCYuh4"
      }
    },
    {
      "cell_type": "markdown",
      "source": [
        "#### Chart - 6"
      ],
      "metadata": {
        "id": "OH-pJp9IphqM"
      }
    },
    {
      "cell_type": "code",
      "source": [
        "# Chart - 6 visualization code\n",
        "# Top 10 genres\n",
        "top_genres = titles['genres'].explode().value_counts().head(10)\n",
        "\n",
        "# Bar plot\n",
        "plt.figure(figsize=(10,6))\n",
        "sns.barplot(x=top_genres.values, y=top_genres.index, palette='viridis')\n",
        "plt.title('Top 10 Most Common Genres on Amazon Prime')\n",
        "plt.xlabel('Number of Titles')\n",
        "plt.ylabel('Genre')\n",
        "plt.grid(axis='x')\n",
        "plt.tight_layout()\n",
        "plt.show()\n"
      ],
      "metadata": {
        "id": "kuRf4wtuphqN"
      },
      "execution_count": null,
      "outputs": []
    },
    {
      "cell_type": "markdown",
      "source": [
        "##### 1. Why did you pick the specific chart?"
      ],
      "metadata": {
        "id": "bbFf2-_FphqN"
      }
    },
    {
      "cell_type": "markdown",
      "source": [
        "A horizontal bar chart is ideal for displaying categorical data like genres. It offers clarity and is especially useful when dealing with long genre names, allowing easy comparison of frequencies across genres."
      ],
      "metadata": {
        "id": "loh7H2nzphqN"
      }
    },
    {
      "cell_type": "markdown",
      "source": [
        "##### 2. What is/are the insight(s) found from the chart?"
      ],
      "metadata": {
        "id": "_ouA3fa0phqN"
      }
    },
    {
      "cell_type": "markdown",
      "source": [
        "* The most common genres include Drama, Comedy, Action, Thriller, and Romance, suggesting that Amazon Prime caters to a wide range of mainstream preferences.\n",
        "\n",
        "* Drama appears as the most dominant genre, reflecting user demand or Amazon's acquisition strategy.\n",
        "\n",
        "* Niche genres (like Documentary, Animation, or Sci-Fi) are present but less frequent in the top 10."
      ],
      "metadata": {
        "id": "VECbqPI7phqN"
      }
    },
    {
      "cell_type": "markdown",
      "source": [
        "##### 3. Will the gained insights help creating a positive business impact?\n",
        "Are there any insights that lead to negative growth? Justify with specific reason."
      ],
      "metadata": {
        "id": "Seke61FWphqN"
      }
    },
    {
      "cell_type": "markdown",
      "source": [
        "**Positive Business Impact:**\n",
        "\n",
        "* Amazon can tailor its recommendations and curate genre-based collections around top-performing categories like Drama and Comedy to increase viewer engagement.\n",
        "\n",
        "* The platform may use these insights to invest more in high-demand genres to retain and grow the subscriber base.\n",
        "\n",
        "* Genre-specific marketing campaigns can be created to target audience segments based on their preferences.\n",
        "\n",
        "**Negative insights:**\n",
        "* If not focusing on low value genre than customer moved to another platform with specific interest."
      ],
      "metadata": {
        "id": "DW4_bGpfphqN"
      }
    },
    {
      "cell_type": "markdown",
      "source": [
        "#### Chart - 7"
      ],
      "metadata": {
        "id": "PIIx-8_IphqN"
      }
    },
    {
      "cell_type": "code",
      "source": [
        "# Chart - 7 visualization code\n",
        "df_country = df.explode('production_countries')\n",
        "top_countries = df_country['production_countries'].value_counts().head(10)\n",
        "\n",
        "plt.figure(figsize=(10,5))\n",
        "sns.barplot(x=top_countries.index, y=top_countries.values, palette=\"Set3\")\n",
        "plt.title(\"Top 10 Content Producing Countries\")\n",
        "plt.xticks(rotation=45)\n",
        "plt.ylabel(\"Number of Shows\")\n",
        "plt.show()\n"
      ],
      "metadata": {
        "id": "lqAIGUfyphqO"
      },
      "execution_count": null,
      "outputs": []
    },
    {
      "cell_type": "markdown",
      "source": [
        "##### 1. Why did you pick the specific chart?"
      ],
      "metadata": {
        "id": "t27r6nlMphqO"
      }
    },
    {
      "cell_type": "markdown",
      "source": [
        "A vertical bar chart is ideal for representing discrete categories such as countries. It provides a clear view of which countries contribute the most content to Amazon Prime, making it easier to compare production volume across regions."
      ],
      "metadata": {
        "id": "iv6ro40sphqO"
      }
    },
    {
      "cell_type": "markdown",
      "source": [
        "##### 2. What is/are the insight(s) found from the chart?"
      ],
      "metadata": {
        "id": "r2jJGEOYphqO"
      }
    },
    {
      "cell_type": "markdown",
      "source": [
        "* The United States leads by a large margin in terms of content production on Amazon Prime.\n",
        "\n",
        "* Other key contributors include India, United Kingdom, Canada, France, and Japan.\n",
        "\n",
        "* There's a healthy mix of Western and Asian countries, showing Amazon's global content acquisition strategy."
      ],
      "metadata": {
        "id": "Po6ZPi4hphqO"
      }
    },
    {
      "cell_type": "markdown",
      "source": [
        "##### 3. Will the gained insights help creating a positive business impact?\n",
        "Are there any insights that lead to negative growth? Justify with specific reason."
      ],
      "metadata": {
        "id": "b0JNsNcRphqO"
      }
    },
    {
      "cell_type": "markdown",
      "source": [
        "**Positive Business Impact:**\n",
        "\n",
        "* Amazon can leverage this insight to expand partnerships or co-productions with high-content-producing countries.\n",
        "\n",
        "* The company can localize marketing and regional UI/UX strategies for countries like India and the UK where content production is high.\n",
        "\n",
        "* These findings help identify content hubs and guide decisions for future content investments.\n",
        "\n",
        "**Potential Negative Impact:**\n",
        "\n",
        "* Over-reliance on a few countries (especially the US) may cause regional content gaps, alienating international audiences looking for diverse or native-language content.\n",
        "\n",
        "* Underrepresented countries may reflect missed market opportunities or limited regional production support."
      ],
      "metadata": {
        "id": "xvSq8iUTphqO"
      }
    },
    {
      "cell_type": "markdown",
      "source": [
        "#### Chart - 8"
      ],
      "metadata": {
        "id": "BZR9WyysphqO"
      }
    },
    {
      "cell_type": "code",
      "source": [
        "# Chart - 8 visualization code\n",
        "\n",
        "\n",
        "# Get top 10 most voted titles\n",
        "top_10_popular = titles.sort_values(by='imdb_votes', ascending=False).head(10)\n",
        "\n",
        "# Plotting\n",
        "plt.figure(figsize=(12, 6))\n",
        "sns.barplot(y=top_10_popular['title'], x=top_10_popular['imdb_votes'], palette='magma')\n",
        "plt.title(\"Top 10 Most Popular Titles by IMDb Votes on Amazon Prime\")\n",
        "plt.xlabel(\"IMDb Votes\")\n",
        "plt.ylabel(\"Title\")\n",
        "plt.tight_layout()\n",
        "plt.show()\n"
      ],
      "metadata": {
        "id": "TdPTWpAVphqO"
      },
      "execution_count": null,
      "outputs": []
    },
    {
      "cell_type": "markdown",
      "source": [
        "##### 1. Why did you pick the specific chart?"
      ],
      "metadata": {
        "id": "jj7wYXLtphqO"
      }
    },
    {
      "cell_type": "markdown",
      "source": [
        "A horizontal bar chart was selected to visualize the top 10 titles with the highest IMDb vote count. This format allows for easy reading of long title names and direct comparison of popularity levels based on audience engagement (votes), which is a strong indicator of a title’s success and reach."
      ],
      "metadata": {
        "id": "Ob8u6rCTphqO"
      }
    },
    {
      "cell_type": "markdown",
      "source": [
        "##### 2. What is/are the insight(s) found from the chart?"
      ],
      "metadata": {
        "id": "eZrbJ2SmphqO"
      }
    },
    {
      "cell_type": "markdown",
      "source": [
        "* A few titles have garnered millions of votes, indicating high global popularity and engagement.\n",
        "\n",
        "* These titles likely represent evergreen or blockbuster content that continues to attract viewers over time.\n",
        "\n",
        "* High vote counts reflect not just viewership but also viewer interest in rating the content, a signal of strong audience connection."
      ],
      "metadata": {
        "id": "mZtgC_hjphqO"
      }
    },
    {
      "cell_type": "markdown",
      "source": [
        "##### 3. Will the gained insights help creating a positive business impact?\n",
        "Are there any insights that lead to negative growth? Justify with specific reason."
      ],
      "metadata": {
        "id": "rFu4xreNphqO"
      }
    },
    {
      "cell_type": "markdown",
      "source": [
        "**Positive Business Impact:**\n",
        "\n",
        "* These insights help identify benchmark content that draws massive engagement, useful for recommendation systems, re-marketing, or franchise development.\n",
        "\n",
        "* Amazon can feature or re-promote these titles to maximize viewership or subscription retention.\n",
        "\n",
        "* Helps in licensing and investment decisions, as similar content genres or formats may be prioritized.\n",
        "\n",
        "No negative insights"
      ],
      "metadata": {
        "id": "ey_0qi68phqO"
      }
    },
    {
      "cell_type": "markdown",
      "source": [
        "#### Chart - 9 - Correlation Heatmap"
      ],
      "metadata": {
        "id": "NC_X3p0fY2L0"
      }
    },
    {
      "cell_type": "code",
      "source": [
        "# Correlation Heatmap visualization code\n",
        "plt.figure(figsize=(8,6))\n",
        "sns.heatmap(df[['runtime', 'imdb_score', 'imdb_votes', 'seasons']].corr(), annot=True, cmap=\"coolwarm\")\n",
        "plt.title(\"Correlation Heatmap\")\n",
        "plt.show()\n"
      ],
      "metadata": {
        "id": "xyC9zolEZNRQ"
      },
      "execution_count": null,
      "outputs": []
    },
    {
      "cell_type": "markdown",
      "source": [
        "##### 1. Why did you pick the specific chart?"
      ],
      "metadata": {
        "id": "UV0SzAkaZNRQ"
      }
    },
    {
      "cell_type": "markdown",
      "source": [
        "A correlation heatmap is ideal for identifying relationships between multiple numerical features in a dataset. It provides a clear and visual summary of how strongly (or weakly) different variables are related. This helps in feature selection, understanding content performance metrics, and building data-driven strategies."
      ],
      "metadata": {
        "id": "DVPuT8LYZNRQ"
      }
    },
    {
      "cell_type": "markdown",
      "source": [
        "##### 2. What is/are the insight(s) found from the chart?"
      ],
      "metadata": {
        "id": "YPEH6qLeZNRQ"
      }
    },
    {
      "cell_type": "markdown",
      "source": [
        "* A moderate positive correlation is observed between imdb_votes and imdb_score, suggesting that more voted titles tend to have slightly higher ratings, which reflects engaged audiences tend to support quality content.\n",
        "\n",
        "* Runtime and seasons show low or no correlation with imdb_score and votes, implying that longer content or multi-season shows are not necessarily better rated.\n",
        "\n",
        "* Seasons and runtime might be weakly related, hinting that TV shows with more seasons may have slightly longer total runtimes, but it’s not a strong relationship.\n",
        "\n"
      ],
      "metadata": {
        "id": "bfSqtnDqZNRR"
      }
    },
    {
      "cell_type": "markdown",
      "source": [
        "#### Chart - 10 - Pair Plot"
      ],
      "metadata": {
        "id": "q29F0dvdveiT"
      }
    },
    {
      "cell_type": "code",
      "source": [
        "# Pair Plot visualization code\n",
        "sns.pairplot(df)"
      ],
      "metadata": {
        "id": "o58-TEIhveiU"
      },
      "execution_count": null,
      "outputs": []
    },
    {
      "cell_type": "markdown",
      "source": [
        "##### 1. Why did you pick the specific chart?"
      ],
      "metadata": {
        "id": "EXh0U9oCveiU"
      }
    },
    {
      "cell_type": "markdown",
      "source": [
        "A pair plot is chosen because it provides a comprehensive multivariate visualization, displaying pairwise relationships between multiple numerical features. It combines scatter plots, histograms, and density plots in a single matrix, helping in detecting correlations, distributions, trends, and outliers across all combinations of selected variables. This is especially useful in exploratory data analysis (EDA)."
      ],
      "metadata": {
        "id": "eMmPjTByveiU"
      }
    },
    {
      "cell_type": "markdown",
      "source": [
        "##### 2. What is/are the insight(s) found from the chart?"
      ],
      "metadata": {
        "id": "22aHeOlLveiV"
      }
    },
    {
      "cell_type": "markdown",
      "source": [
        "* A positive trend is visible between imdb_votes and imdb_score, similar to what was observed in the correlation heatmap.\n",
        "\n",
        "* Skewed distributions are visible in variables like imdb_votes and runtime, indicating a few titles dominate in popularity or length.\n",
        "\n",
        "* Some clusters and outliers can be observed, which may indicate specific genres, series, or standout movies with exceptional characteristics.\n",
        "\n",
        "* The pair plot confirms weak or no relationship between runtime and imdb_score, meaning longer content doesn’t guarantee higher ratings."
      ],
      "metadata": {
        "id": "uPQ8RGwHveiV"
      }
    },
    {
      "cell_type": "markdown",
      "source": [
        "## **5. Solution to Business Objective**"
      ],
      "metadata": {
        "id": "JcMwzZxoAimU"
      }
    },
    {
      "cell_type": "markdown",
      "source": [
        "#### What do you suggest the client to achieve Business Objective ?\n",
        "Explain Briefly."
      ],
      "metadata": {
        "id": "8G2x9gOozGDZ"
      }
    },
    {
      "cell_type": "markdown",
      "source": [
        "To achieve the business objective, Amazon Prime should focus on:\n",
        "\n",
        "* Producing more high-rated genres like Drama and Comedy.\n",
        "\n",
        "* Expanding regional content, especially in high-demand countries like India and the UK.\n",
        "\n",
        "* Promoting top-rated and most-voted content to increase user engagement.\n",
        "\n",
        "* Using data insights for personalized recommendations and targeted marketing."
      ],
      "metadata": {
        "id": "pASKb0qOza21"
      }
    },
    {
      "cell_type": "markdown",
      "source": [
        "# **Conclusion**"
      ],
      "metadata": {
        "id": "gCX9965dhzqZ"
      }
    },
    {
      "cell_type": "markdown",
      "source": [
        "In this Exploratory Data Analysis (EDA) Capstone Project on Amazon Prime Video content, we uncovered valuable insights that can guide strategic decisions for improving content offerings and viewer satisfaction. Through detailed visualizations and data-driven observations, we analyzed trends in content types, genres, regional distribution, popularity metrics (IMDb & TMDb), and user engagement indicators.\n",
        "\n",
        "Key findings revealed that Drama, Comedy, and Action dominate the platform, while content is largely produced in a few countries like the USA, UK, and India. Highly voted and rated titles significantly influence viewer behavior, and shorter runtimes or limited-series formats are gaining popularity. These insights highlight opportunities for content diversification, regional expansion, and data-driven personalization.\n",
        "\n",
        "Overall, this analysis equips stakeholders with actionable intelligence to boost platform engagement, enhance user experience, and drive sustainable growth for Amazon Prime Video."
      ],
      "metadata": {
        "id": "Fjb1IsQkh3yE"
      }
    },
    {
      "cell_type": "markdown",
      "source": [
        "### ***Hurrah! You have successfully completed your EDA Capstone Project !!!***"
      ],
      "metadata": {
        "id": "gIfDvo9L0UH2"
      }
    }
  ]
}